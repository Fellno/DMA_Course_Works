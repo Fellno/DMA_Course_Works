{
 "cells": [
  {
   "cell_type": "markdown",
   "metadata": {},
   "source": [
    "# CNN Base分类器"
   ]
  },
  {
   "cell_type": "markdown",
   "metadata": {},
   "source": [
    "## 库导入"
   ]
  },
  {
   "cell_type": "code",
   "execution_count": 1,
   "metadata": {},
   "outputs": [
    {
     "name": "stdout",
     "output_type": "stream",
     "text": [
      "WARNING:tensorflow:From /Users/fellno/opt/anaconda3/envs/tensorflow/lib/python3.6/site-packages/tensorflow_core/python/compat/v2_compat.py:65: disable_resource_variables (from tensorflow.python.ops.variable_scope) is deprecated and will be removed in a future version.\n",
      "Instructions for updating:\n",
      "non-resource variables are not supported in the long term\n"
     ]
    },
    {
     "name": "stderr",
     "output_type": "stream",
     "text": [
      "Using TensorFlow backend.\n"
     ]
    }
   ],
   "source": [
    "import sys\n",
    "import time\n",
    "import os\n",
    "import re\n",
    "import numpy as np\n",
    "import pandas as pd\n",
    "import pickle\n",
    "import matplotlib.pyplot as plt\n",
    "\n",
    "import tensorflow.compat.v1 as tf\n",
    "tf.disable_v2_behavior()\n",
    "import keras as kr\n",
    "\n",
    "\n",
    "# 实时更新进度条\n",
    "def print_flush(print_string):\n",
    "    print(print_string, end='\\r')\n",
    "    sys.stdout.flush()\n",
    "\n",
    "# 获取显存动态增长的会话 \n",
    "def get_session():\n",
    "    config = tf.ConfigProto()\n",
    "    config.gpu_options.allow_growth = True\n",
    "    session = tf.Session(config=config)\n",
    "    return session\n",
    "\n",
    "# 选择数据集及分类器，0 - THUCNews，1 - 今日头条\n",
    "predictor_set = [\"THUCNews\", \"TouTiao\"]\n",
    "name_of_predictor = predictor_set[1]"
   ]
  },
  {
   "cell_type": "markdown",
   "metadata": {},
   "source": [
    "## 导入数据"
   ]
  },
  {
   "cell_type": "markdown",
   "metadata": {},
   "source": [
    "### 路径导入"
   ]
  },
  {
   "cell_type": "code",
   "execution_count": 3,
   "metadata": {},
   "outputs": [
    {
     "data": {
      "text/plain": [
       "386093"
      ]
     },
     "execution_count": 3,
     "metadata": {},
     "output_type": "execute_result"
    }
   ],
   "source": [
    "def getFilePath(rootDir):\n",
    "    filePath_list = []\n",
    "    for root, dirs, files in os.walk(rootDir):\n",
    "        filePath_list += [os.path.join(root, file) for file in files if file != \".DS_Store\"]\n",
    "    return filePath_list\n",
    "\n",
    "filePath_list = getFilePath(\"./DataSets/\" + name_of_predictor)\n",
    "len(filePath_list)"
   ]
  },
  {
   "cell_type": "markdown",
   "metadata": {},
   "source": [
    "### 文件内容读取"
   ]
  },
  {
   "cell_type": "code",
   "execution_count": 4,
   "metadata": {},
   "outputs": [
    {
     "name": "stdout",
     "output_type": "stream",
     "text": [
      "386093 / 386093 >>>>>>>>>>>>>>>>>>>>>>>>>>>>>>>>>>>>>>>>>>>>>>>>>> Percentage: 100.00% Process speed: 2829.06 files/sec Total time: 136.47 Seconds.\r"
     ]
    }
   ],
   "source": [
    "def getFile(filePath):\n",
    "    with open(filePath, 'r', encoding='utf8') as file:\n",
    "        fileContent = file.read()\n",
    "    return fileContent\n",
    "\n",
    "sequence_length = 600\n",
    "sample_quantity = len(filePath_list)\n",
    "startTime = time.time()\n",
    "content_list = []\n",
    "for i in range(sample_quantity):\n",
    "    filePath = filePath_list[i]\n",
    "    \n",
    "    # 获取文本\n",
    "    fileContent = getFile(filePath)\n",
    "    # 正则处理\n",
    "    fileContent_1 = re.sub('\\s+', ' ', fileContent)\n",
    "    # 长度截断\n",
    "    fileContent_2 = fileContent_1[:sequence_length]\n",
    "    content_list.append(fileContent_2)\n",
    "    \n",
    "    # 进度条\n",
    "    index = i + 1\n",
    "    if index % 100 == 0 or index == sample_quantity:\n",
    "        percent = index / sample_quantity * 100\n",
    "        percent_int = int(percent)\n",
    "        half_percent_int = int(percent_int / 2)\n",
    "        string_0 = \"{0} / {1} \".format(index, sample_quantity)\n",
    "        string_1 = '>' * half_percent_int + ' ' * (50 - half_percent_int)\n",
    "        string_2 = \" Percentage: {:.2f}%\".format(percent)\n",
    "        usedTime = time.time() - startTime\n",
    "        string_3 = \" Process speed: {:.2f} files/sec\".format(index / usedTime)\n",
    "        string_4 = \" Total time: {:.2f} Seconds.\".format(usedTime)\n",
    "        print_string = string_0 + string_1 + string_2 + string_3 + string_4\n",
    "        print_flush(print_string)"
   ]
  },
  {
   "cell_type": "markdown",
   "metadata": {},
   "source": [
    "### 文件内容序列化保存"
   ]
  },
  {
   "cell_type": "code",
   "execution_count": 5,
   "metadata": {},
   "outputs": [
    {
     "name": "stdout",
     "output_type": "stream",
     "text": [
      "Content serialization finished.\n"
     ]
    }
   ],
   "source": [
    "# 创建content_list文件夹\n",
    "dir_name = \"./\" + name_of_predictor + \"/content_list\"\n",
    "if not os.path.isdir(dir_name):\n",
    "    os.makedirs(dir_name)\n",
    "    \n",
    "pickleFilePath = \"./\" + name_of_predictor + \"/content_list/content_list.pickle\"\n",
    "with open(pickleFilePath, 'wb') as file:\n",
    "    pickle.dump(content_list, file)\n",
    "print(\"Content serialization finished.\")"
   ]
  },
  {
   "cell_type": "markdown",
   "metadata": {},
   "source": [
    "### 文件内容加载"
   ]
  },
  {
   "cell_type": "code",
   "execution_count": 2,
   "metadata": {
    "scrolled": true
   },
   "outputs": [
    {
     "name": "stdout",
     "output_type": "stream",
     "text": [
      "Content load finished.\n"
     ]
    }
   ],
   "source": [
    "pickleFilePath = \"./\" + name_of_predictor + \"/content_list/content_list.pickle\"\n",
    "with open(pickleFilePath, 'rb') as file:\n",
    "    content_list = pickle.load(file)\n",
    "print(\"Content load finished.\")"
   ]
  },
  {
   "cell_type": "markdown",
   "metadata": {},
   "source": [
    "### 样本标签列表获取"
   ]
  },
  {
   "cell_type": "code",
   "execution_count": 6,
   "metadata": {
    "scrolled": true
   },
   "outputs": [
    {
     "name": "stdout",
     "output_type": "stream",
     "text": [
      "Label length: 386093\n"
     ]
    },
    {
     "data": {
      "text/plain": [
       "科技    41543\n",
       "娱乐    39396\n",
       "体育    37568\n",
       "汽车    35785\n",
       "游戏    29300\n",
       "文化    28031\n",
       "金融    27085\n",
       "教育    27058\n",
       "世界    26909\n",
       "军事    24984\n",
       "旅游    21422\n",
       "农业    19322\n",
       "房产    17672\n",
       "民生     6273\n",
       "疫情     3405\n",
       "股票      340\n",
       "dtype: int64"
      ]
     },
     "execution_count": 6,
     "metadata": {},
     "output_type": "execute_result"
    }
   ],
   "source": [
    "def get_label_list(rootDir):\n",
    "    label_list = []\n",
    "    for filePath in filePath_list:\n",
    "        label_list.append(filePath.split('/')[3])\n",
    "    return label_list\n",
    "\n",
    "label_list = get_label_list(\"./DataSets/\" + name_of_predictor)\n",
    "print('Label length:', len(label_list)) \n",
    "pd.value_counts(label_list)"
   ]
  },
  {
   "cell_type": "markdown",
   "metadata": {},
   "source": [
    "### 样本标签列表序列化保存"
   ]
  },
  {
   "cell_type": "code",
   "execution_count": 7,
   "metadata": {},
   "outputs": [
    {
     "name": "stdout",
     "output_type": "stream",
     "text": [
      "Label list serialization finished.\n"
     ]
    }
   ],
   "source": [
    "pickleFilePath = './' + name_of_predictor + '/label_list.pickle'\n",
    "\n",
    "with open(pickleFilePath, 'wb') as file:\n",
    "    pickle.dump(label_list, file)\n",
    "print(\"Label list serialization finished.\")"
   ]
  },
  {
   "cell_type": "markdown",
   "metadata": {},
   "source": [
    "### 样本标签列表加载"
   ]
  },
  {
   "cell_type": "code",
   "execution_count": 3,
   "metadata": {},
   "outputs": [
    {
     "name": "stdout",
     "output_type": "stream",
     "text": [
      "Label list load finished.\n"
     ]
    }
   ],
   "source": [
    "with open('./' + name_of_predictor + '/label_list.pickle', 'rb') as file:\n",
    "    label_list = pickle.load(file)\n",
    "print(\"Label list load finished.\")"
   ]
  },
  {
   "cell_type": "markdown",
   "metadata": {},
   "source": [
    "## 词汇表建立"
   ]
  },
  {
   "cell_type": "markdown",
   "metadata": {},
   "source": [
    "### 词汇表构建和存储"
   ]
  },
  {
   "cell_type": "code",
   "execution_count": 8,
   "metadata": {},
   "outputs": [
    {
     "name": "stdout",
     "output_type": "stream",
     "text": [
      "386093/ 386093 Processed: 100.00% Time cost: 4.70秒\r"
     ]
    }
   ],
   "source": [
    "from collections import Counter\n",
    "\n",
    "def get_word_list(content_list, size):\n",
    "    startTime = time.time()\n",
    "    counter = Counter()\n",
    "    sample_quantity = len(content_list)\n",
    "    for i, content in enumerate(content_list, 1):\n",
    "        counter.update(content)\n",
    "        if i%1000==0 or i==sample_quantity:\n",
    "            string_0 = '%d/ %d' %(i, sample_quantity)\n",
    "            string_1 = ' Processed: %.2f%%' %(i/sample_quantity*100)\n",
    "            usedTime = time.time() - startTime\n",
    "            string_2 = ' Time cost: %.2f秒' %usedTime\n",
    "            print_string = string_0 + string_1 + string_2\n",
    "            print_flush(print_string)\n",
    "    word_list_1 = [k[0] for k in counter.most_common(size-1)]\n",
    "    word_list = ['PAD'] + word_list_1\n",
    "    return word_list\n",
    "\n",
    "\n",
    "vocabulary_size = 7000\n",
    "word_list = get_word_list(content_list, vocabulary_size)"
   ]
  },
  {
   "cell_type": "code",
   "execution_count": 9,
   "metadata": {},
   "outputs": [
    {
     "name": "stdout",
     "output_type": "stream",
     "text": [
      "Words list saved.\n"
     ]
    }
   ],
   "source": [
    "with open('./' + name_of_predictor + '/word_list.pickle', 'wb') as file:\n",
    "    pickle.dump(word_list, file)\n",
    "print(\"Words list saved.\")"
   ]
  },
  {
   "cell_type": "markdown",
   "metadata": {},
   "source": [
    "### 词汇表加载"
   ]
  },
  {
   "cell_type": "code",
   "execution_count": 4,
   "metadata": {},
   "outputs": [
    {
     "name": "stdout",
     "output_type": "stream",
     "text": [
      "Words list loaded.\n"
     ]
    }
   ],
   "source": [
    "import pickle\n",
    "\n",
    "with open('./' + name_of_predictor + '/word_list.pickle', 'rb') as file:\n",
    "    word_list = pickle.load(file)\n",
    "print(\"Words list loaded.\")"
   ]
  },
  {
   "cell_type": "markdown",
   "metadata": {},
   "source": [
    "## 训练模型准备"
   ]
  },
  {
   "cell_type": "markdown",
   "metadata": {},
   "source": [
    "### 输入X文字序列转id序列"
   ]
  },
  {
   "cell_type": "code",
   "execution_count": 5,
   "metadata": {},
   "outputs": [],
   "source": [
    "sequence_length = 600\n",
    "# 初始化id序列对查表\n",
    "word2id_dict = dict([(b, a) for a, b in enumerate(word_list)])\n",
    "\n",
    "# 单文章转id列表\n",
    "def get_id_list(index):\n",
    "    content = index if isinstance(index, str) else content_list[index]\n",
    "    id_list = []\n",
    "    for word in content[:sequence_length]:\n",
    "        if word in word2id_dict:\n",
    "            id_ = word2id_dict[word]\n",
    "            id_list.append(id_)\n",
    "        else:\n",
    "            id_list.append(0)\n",
    "    return id_list\n",
    "\n",
    "# 多文章转id列表\n",
    "def get_X(indexes):\n",
    "    idList_list = [get_id_list(i) for i in indexes]\n",
    "    X = kr.preprocessing.sequence.pad_sequences(idList_list, sequence_length)\n",
    "    return X"
   ]
  },
  {
   "cell_type": "markdown",
   "metadata": {},
   "source": [
    "### 输出Y标签One-Hot编码"
   ]
  },
  {
   "cell_type": "code",
   "execution_count": 6,
   "metadata": {},
   "outputs": [],
   "source": [
    "from sklearn.preprocessing import LabelEncoder\n",
    "\n",
    "labelEncoder = LabelEncoder()\n",
    "labelEncoder.fit(label_list)\n",
    "# 获取标签类别数量\n",
    "category_quantity = labelEncoder.classes_.shape[0]\n",
    "\n",
    "# One-Hot\n",
    "def get_Y(indexes):\n",
    "    # 先转2d供LabelEncoder使用\n",
    "    part_label_list = [label_list[i] for i in indexes]\n",
    "    oneHot_2d_array = labelEncoder.transform(part_label_list)\n",
    "    Y = kr.utils.to_categorical(oneHot_2d_array, category_quantity)\n",
    "    return Y"
   ]
  },
  {
   "cell_type": "markdown",
   "metadata": {},
   "source": [
    "### 对不同标签类别分权重\n",
    "让每个标签总体上的抽取概率相同，实际操作上等效于让样本不多的标签单样本权重拉高，样本多的标签单样本权重拉低，使其分类能被充分训练"
   ]
  },
  {
   "cell_type": "code",
   "execution_count": 7,
   "metadata": {},
   "outputs": [],
   "source": [
    "def get_probability_list(label_list):\n",
    "    count_series = pd.value_counts(label_list)\n",
    "    category_quantity = len(count_series)\n",
    "    category_weights = 1 / category_quantity\n",
    "    # 利用count_series分权重\n",
    "    label2weights_dict = dict([(a, b) for a, b in zip(count_series.index, category_weights / count_series)])\n",
    "    probability_list = [label2weights_dict[i] for i in label_list]\n",
    "    return probability_list"
   ]
  },
  {
   "cell_type": "markdown",
   "metadata": {},
   "source": [
    "### 批量数据生成器线程"
   ]
  },
  {
   "cell_type": "code",
   "execution_count": 8,
   "metadata": {},
   "outputs": [],
   "source": [
    "import threading\n",
    "from sklearn.model_selection import train_test_split\n",
    "\n",
    "sample_quantity = len(label_list)\n",
    "index_1d_array = np.arange(sample_quantity)\n",
    "train_index_1d_array, test_index_1d_array = train_test_split(index_1d_array, random_state=2019)\n",
    "train_label_list = [label_list[k] for k in train_index_1d_array]\n",
    "train_probability_list = get_probability_list(train_label_list)\n",
    "batch_size = 128\n",
    "\n",
    "\n",
    "class BatchDataThread(threading.Thread):\n",
    "    def __init__(self, queue):\n",
    "        super(BatchDataThread, self).__init__()\n",
    "        self.queue = queue\n",
    "        self.start()\n",
    "    \n",
    "    def run(self):\n",
    "        while not self._is_stopped:\n",
    "            if self.queue.qsize() < 4:\n",
    "                selected_indexes = np.random.choice(\n",
    "                    train_index_1d_array, size=batch_size, p=train_probability_list)\n",
    "                batch_X = get_X(selected_indexes)\n",
    "                batch_Y = get_Y(selected_indexes)\n",
    "                put_tuple = batch_X.astype('int32'), batch_Y.astype('float32')\n",
    "                self.queue.put(put_tuple)\n",
    "            time.sleep(0.0001)"
   ]
  },
  {
   "cell_type": "markdown",
   "metadata": {},
   "source": [
    "### 批量数据生成器类"
   ]
  },
  {
   "cell_type": "code",
   "execution_count": 9,
   "metadata": {},
   "outputs": [],
   "source": [
    "import queue\n",
    "\n",
    "class BatchDataGenerator(object):\n",
    "    def __init__(self, worker_quantity=4):\n",
    "        self.queue = queue.Queue()\n",
    "        for i in range(worker_quantity):\n",
    "            BatchDataThread(self.queue)\n",
    "            \n",
    "    def __iter__(self):\n",
    "        return self\n",
    "    \n",
    "    def __next__(self):\n",
    "        batch_data = self.queue.get()\n",
    "        return batch_data\n",
    "    \n",
    "    \n",
    "batchData_generator = BatchDataGenerator()"
   ]
  },
  {
   "cell_type": "markdown",
   "metadata": {},
   "source": [
    "## 搭建神经网络"
   ]
  },
  {
   "cell_type": "code",
   "execution_count": 10,
   "metadata": {},
   "outputs": [
    {
     "name": "stdout",
     "output_type": "stream",
     "text": [
      "WARNING:tensorflow:From <ipython-input-10-011ea027cf5d>:12: conv1d (from tensorflow.python.layers.convolutional) is deprecated and will be removed in a future version.\n",
      "Instructions for updating:\n",
      "Use `tf.keras.layers.Conv1D` instead.\n",
      "WARNING:tensorflow:From /Users/fellno/opt/anaconda3/envs/tensorflow/lib/python3.6/site-packages/tensorflow_core/python/layers/convolutional.py:218: Layer.apply (from tensorflow.python.keras.engine.base_layer) is deprecated and will be removed in a future version.\n",
      "Instructions for updating:\n",
      "Please use `layer.__call__` method instead.\n",
      "WARNING:tensorflow:From <ipython-input-10-011ea027cf5d>:23: dense (from tensorflow.python.layers.core) is deprecated and will be removed in a future version.\n",
      "Instructions for updating:\n",
      "Use keras.layers.Dense instead.\n"
     ]
    }
   ],
   "source": [
    "tf.reset_default_graph()\n",
    "sequence_length = 600\n",
    "X_holder = tf.placeholder(tf.int32, [None, sequence_length])\n",
    "Y_holder = tf.placeholder(tf.float32, [None, category_quantity])\n",
    "data_0 = X_holder # N *  600\n",
    "vocabulary_size = 7000\n",
    "embedding_size = 100\n",
    "\n",
    "layer_1 = tf.get_variable('embedding', [vocabulary_size, embedding_size])\n",
    "data_1 = tf.nn.embedding_lookup(layer_1, data_0) # N * 600 * 100\n",
    "\n",
    "# 三通道卷积\n",
    "filter_quantiy = 128 \n",
    "layer_2 = tf.layers.conv1d # 3 * 100 * 128\n",
    "data_2 = layer_2(data_1, filter_quantiy, 3, padding='SAME') # N * 600 * 128\n",
    "layer_3 = tf.layers.conv1d # 5 * 100 * 128\n",
    "data_3 = layer_3(data_1, filter_quantiy, 5, padding='SAME') # N * 600 * 128\n",
    "layer_4 = tf.layers.conv1d # 7 * 100 * 128\n",
    "data_4 = layer_4(data_1, filter_quantiy, 7, padding='SAME') # N * 600 * 128\n",
    "\n",
    "# 组合输入\n",
    "layer_5 = tf.concat\n",
    "data_5 = layer_5([data_2, data_3, data_4], axis=2) # N * 600 * 384\n",
    "\n",
    "# 融合通道的最明显特征\n",
    "layer_6 = tf.reduce_max\n",
    "data_6 = layer_6(data_5, [1]) # N * 384\n",
    "\n",
    "# 降维\n",
    "layer_7 = tf.layers.dense # 384 * 128\n",
    "fc1_units = 128\n",
    "data_7 = layer_7(data_6, fc1_units) # N * 128\n",
    "layer_8 = tf.nn.relu\n",
    "data_8 = layer_8(data_7) # N * 128\n",
    "layer_9 = tf.layers.dense\n",
    "data_9 = layer_9(data_8, category_quantity) # N * 14\n",
    "\n",
    "# softmax\n",
    "layer_10 = tf.nn.softmax\n",
    "data_10 = layer_10(data_9) # N * 14\n",
    "\n",
    "# 损失计算\n",
    "layer_11 = tf.nn.softmax_cross_entropy_with_logits_v2\n",
    "data_11 = layer_11(labels=Y_holder, logits=data_9) # N\n",
    "loss = tf.reduce_mean(data_11) # 1\n",
    "\n",
    "# 优化器和检验\n",
    "learning_rate = 5e-4\n",
    "optimizer = tf.train.AdamOptimizer(learning_rate)\n",
    "train = optimizer.minimize(loss)\n",
    "isCorrect = tf.equal(tf.argmax(Y_holder, 1), tf.argmax(data_10, 1))\n",
    "accuracy = tf.reduce_mean(tf.cast(isCorrect, tf.float32))"
   ]
  },
  {
   "cell_type": "markdown",
   "metadata": {},
   "source": [
    "## 模型训练"
   ]
  },
  {
   "cell_type": "markdown",
   "metadata": {},
   "source": [
    "### 参数初始化"
   ]
  },
  {
   "cell_type": "code",
   "execution_count": 32,
   "metadata": {},
   "outputs": [],
   "source": [
    "init = tf.global_variables_initializer()\n",
    "session = get_session()\n",
    "session.run(init)"
   ]
  },
  {
   "cell_type": "markdown",
   "metadata": {},
   "source": [
    "### 迭代训练"
   ]
  },
  {
   "cell_type": "code",
   "execution_count": 33,
   "metadata": {
    "scrolled": true
   },
   "outputs": [
    {
     "name": "stdout",
     "output_type": "stream",
     "text": [
      "Step:5000 Loss:0.3164 Acc:0.9141 Train Speed:0.18 steps/sec\r"
     ]
    }
   ],
   "source": [
    "train_steps = 5000\n",
    "startTime = time.time()\n",
    "fig_loss = np.zeros([train_steps])\n",
    "fig_accuracy = np.zeros([train_steps])\n",
    "for step in range(1, train_steps+1):\n",
    "    batch_X, batch_Y = next(batchData_generator)\n",
    "    \n",
    "    session.run(train, {X_holder:batch_X, Y_holder:batch_Y})\n",
    "    loss_value, accuracy_value = session.run([loss, accuracy], {X_holder:batch_X, Y_holder:batch_Y})\n",
    "    \n",
    "    usedTime = time.time() - startTime\n",
    "    speed = step / usedTime\n",
    "    \n",
    "    print_string = 'Step:{0} Loss:{1:.4f} Acc:{2:.4f} Train Speed:{3:.2f} steps/sec'.format(step, loss_value, accuracy_value, speed)\n",
    "    print_flush(print_string)\n",
    "    \n",
    "    fig_loss[step - 1] = loss_value\n",
    "    fig_accuracy[step - 1] = accuracy_value"
   ]
  },
  {
   "cell_type": "code",
   "execution_count": 34,
   "metadata": {},
   "outputs": [
    {
     "data": {
      "image/png": "[encoded data removed]",
      "text/plain": [
       "<Figure size 432x288 with 2 Axes>"
      ]
     },
     "metadata": {
      "needs_background": "light"
     },
     "output_type": "display_data"
    }
   ],
   "source": [
    "fig, ax1 = plt.subplots()\n",
    "ax2 = ax1.twinx()\n",
    "\n",
    "lns1 = ax1.plot(np.arange(train_steps), fig_loss, label=\"Loss\")\n",
    "lns2 = ax2.plot(np.arange(train_steps), fig_accuracy, 'r', label=\"Accuracy\")\n",
    "\n",
    "ax1.set_xlabel('iteration')\n",
    "ax1.set_ylabel('training loss')\n",
    "ax2.set_ylabel('training accuracy')\n",
    "\n",
    "lns = lns1 + lns2\n",
    "labels = [\"Loss\", \"Accuracy\"]\n",
    "\n",
    "plt.legend(lns, labels, loc=7)\n",
    "plt.show()"
   ]
  },
  {
   "cell_type": "markdown",
   "metadata": {},
   "source": [
    "### 随机测试"
   ]
  },
  {
   "cell_type": "code",
   "execution_count": 12,
   "metadata": {},
   "outputs": [],
   "source": [
    "import warnings\n",
    "warnings.filterwarnings(\"ignore\")\n",
    "\n",
    "def predict(input_content):\n",
    "    id_list = get_id_list(input_content)\n",
    "    #  切割输入\n",
    "    X = kr.preprocessing.sequence.pad_sequences([id_list], sequence_length)\n",
    "    # 输入X数据，求图的data_10，即SoftMax层获得各分类概率矩阵Y\n",
    "    Y = session.run(data_10, {X_holder:X})\n",
    "    # 取概率矩阵中最大元素的索引为结果\n",
    "    y = np.argmax(Y, axis = 1)\n",
    "    # 第二大权重\n",
    "    y_latent = np.argsort(np.max(Y, axis=0))[-2]\n",
    "    # 解析结果\n",
    "    label, label_latent = labelEncoder.inverse_transform(y)[0], labelEncoder.inverse_transform([y_latent])[0]\n",
    "    return label, label_latent"
   ]
  },
  {
   "cell_type": "code",
   "execution_count": 16,
   "metadata": {},
   "outputs": [
    {
     "name": "stdout",
     "output_type": "stream",
     "text": [
      "Selected text content: 新加坡国立大学：研制出在电池没电时仍可继续工作的智能芯片！ 微控制器,芯片,电池,NUS,新加坡国立大学 \n",
      "True label: 科技\n",
      "Predict label: 科技\n",
      "Predict latent label: 金融\n"
     ]
    }
   ],
   "source": [
    "selected_index = np.random.choice(test_index_1d_array, 1)[0]\n",
    "selected_content = content_list[selected_index]\n",
    "true_label = label_list[selected_index]\n",
    "predict_label = predict(selected_content)\n",
    "\n",
    "print(\"Selected text content: \" + selected_content)\n",
    "print(\"True label: \" + true_label)\n",
    "print(\"Predict label: \" + predict_label[0])\n",
    "print(\"Predict latent label: \" + predict_label[1])"
   ]
  },
  {
   "cell_type": "markdown",
   "metadata": {},
   "source": [
    "## 评估分析"
   ]
  },
  {
   "cell_type": "markdown",
   "metadata": {},
   "source": [
    "### 混淆矩阵"
   ]
  },
  {
   "cell_type": "code",
   "execution_count": 52,
   "metadata": {},
   "outputs": [
    {
     "name": "stdout",
     "output_type": "stream",
     "text": [
      "96524 / 96524 Cost time: 246.83 seconds.\r"
     ]
    },
    {
     "data": {
      "text/html": [
       "<div>\n",
       "<style scoped>\n",
       "    .dataframe tbody tr th:only-of-type {\n",
       "        vertical-align: middle;\n",
       "    }\n",
       "\n",
       "    .dataframe tbody tr th {\n",
       "        vertical-align: top;\n",
       "    }\n",
       "\n",
       "    .dataframe thead th {\n",
       "        text-align: right;\n",
       "    }\n",
       "</style>\n",
       "<table border=\"1\" class=\"dataframe\">\n",
       "  <thead>\n",
       "    <tr style=\"text-align: right;\">\n",
       "      <th></th>\n",
       "      <th>世界</th>\n",
       "      <th>体育</th>\n",
       "      <th>军事</th>\n",
       "      <th>农业</th>\n",
       "      <th>娱乐</th>\n",
       "      <th>房产</th>\n",
       "      <th>教育</th>\n",
       "      <th>文化</th>\n",
       "      <th>旅游</th>\n",
       "      <th>民生</th>\n",
       "      <th>汽车</th>\n",
       "      <th>游戏</th>\n",
       "      <th>疫情</th>\n",
       "      <th>科技</th>\n",
       "      <th>股票</th>\n",
       "      <th>金融</th>\n",
       "    </tr>\n",
       "  </thead>\n",
       "  <tbody>\n",
       "    <tr>\n",
       "      <th>世界</th>\n",
       "      <td>5285</td>\n",
       "      <td>74</td>\n",
       "      <td>428</td>\n",
       "      <td>66</td>\n",
       "      <td>144</td>\n",
       "      <td>24</td>\n",
       "      <td>64</td>\n",
       "      <td>81</td>\n",
       "      <td>176</td>\n",
       "      <td>55</td>\n",
       "      <td>50</td>\n",
       "      <td>18</td>\n",
       "      <td>1</td>\n",
       "      <td>95</td>\n",
       "      <td>0</td>\n",
       "      <td>120</td>\n",
       "    </tr>\n",
       "    <tr>\n",
       "      <th>体育</th>\n",
       "      <td>48</td>\n",
       "      <td>8781</td>\n",
       "      <td>28</td>\n",
       "      <td>21</td>\n",
       "      <td>206</td>\n",
       "      <td>8</td>\n",
       "      <td>41</td>\n",
       "      <td>44</td>\n",
       "      <td>45</td>\n",
       "      <td>5</td>\n",
       "      <td>27</td>\n",
       "      <td>117</td>\n",
       "      <td>0</td>\n",
       "      <td>32</td>\n",
       "      <td>0</td>\n",
       "      <td>12</td>\n",
       "    </tr>\n",
       "    <tr>\n",
       "      <th>军事</th>\n",
       "      <td>350</td>\n",
       "      <td>24</td>\n",
       "      <td>5378</td>\n",
       "      <td>15</td>\n",
       "      <td>52</td>\n",
       "      <td>0</td>\n",
       "      <td>40</td>\n",
       "      <td>73</td>\n",
       "      <td>37</td>\n",
       "      <td>12</td>\n",
       "      <td>35</td>\n",
       "      <td>67</td>\n",
       "      <td>0</td>\n",
       "      <td>85</td>\n",
       "      <td>0</td>\n",
       "      <td>18</td>\n",
       "    </tr>\n",
       "    <tr>\n",
       "      <th>农业</th>\n",
       "      <td>19</td>\n",
       "      <td>8</td>\n",
       "      <td>11</td>\n",
       "      <td>4497</td>\n",
       "      <td>28</td>\n",
       "      <td>39</td>\n",
       "      <td>33</td>\n",
       "      <td>60</td>\n",
       "      <td>90</td>\n",
       "      <td>52</td>\n",
       "      <td>14</td>\n",
       "      <td>9</td>\n",
       "      <td>1</td>\n",
       "      <td>28</td>\n",
       "      <td>0</td>\n",
       "      <td>61</td>\n",
       "    </tr>\n",
       "    <tr>\n",
       "      <th>娱乐</th>\n",
       "      <td>51</td>\n",
       "      <td>85</td>\n",
       "      <td>71</td>\n",
       "      <td>47</td>\n",
       "      <td>8824</td>\n",
       "      <td>9</td>\n",
       "      <td>72</td>\n",
       "      <td>225</td>\n",
       "      <td>34</td>\n",
       "      <td>131</td>\n",
       "      <td>26</td>\n",
       "      <td>127</td>\n",
       "      <td>0</td>\n",
       "      <td>85</td>\n",
       "      <td>0</td>\n",
       "      <td>18</td>\n",
       "    </tr>\n",
       "    <tr>\n",
       "      <th>房产</th>\n",
       "      <td>14</td>\n",
       "      <td>4</td>\n",
       "      <td>0</td>\n",
       "      <td>59</td>\n",
       "      <td>8</td>\n",
       "      <td>4058</td>\n",
       "      <td>37</td>\n",
       "      <td>23</td>\n",
       "      <td>75</td>\n",
       "      <td>10</td>\n",
       "      <td>11</td>\n",
       "      <td>3</td>\n",
       "      <td>0</td>\n",
       "      <td>37</td>\n",
       "      <td>2</td>\n",
       "      <td>98</td>\n",
       "    </tr>\n",
       "    <tr>\n",
       "      <th>教育</th>\n",
       "      <td>44</td>\n",
       "      <td>37</td>\n",
       "      <td>28</td>\n",
       "      <td>65</td>\n",
       "      <td>65</td>\n",
       "      <td>15</td>\n",
       "      <td>6015</td>\n",
       "      <td>183</td>\n",
       "      <td>47</td>\n",
       "      <td>33</td>\n",
       "      <td>17</td>\n",
       "      <td>40</td>\n",
       "      <td>0</td>\n",
       "      <td>113</td>\n",
       "      <td>0</td>\n",
       "      <td>49</td>\n",
       "    </tr>\n",
       "    <tr>\n",
       "      <th>文化</th>\n",
       "      <td>53</td>\n",
       "      <td>11</td>\n",
       "      <td>32</td>\n",
       "      <td>85</td>\n",
       "      <td>193</td>\n",
       "      <td>15</td>\n",
       "      <td>120</td>\n",
       "      <td>6208</td>\n",
       "      <td>163</td>\n",
       "      <td>55</td>\n",
       "      <td>6</td>\n",
       "      <td>36</td>\n",
       "      <td>0</td>\n",
       "      <td>56</td>\n",
       "      <td>0</td>\n",
       "      <td>27</td>\n",
       "    </tr>\n",
       "    <tr>\n",
       "      <th>旅游</th>\n",
       "      <td>139</td>\n",
       "      <td>37</td>\n",
       "      <td>27</td>\n",
       "      <td>177</td>\n",
       "      <td>62</td>\n",
       "      <td>56</td>\n",
       "      <td>37</td>\n",
       "      <td>179</td>\n",
       "      <td>4538</td>\n",
       "      <td>23</td>\n",
       "      <td>68</td>\n",
       "      <td>23</td>\n",
       "      <td>0</td>\n",
       "      <td>53</td>\n",
       "      <td>1</td>\n",
       "      <td>33</td>\n",
       "    </tr>\n",
       "    <tr>\n",
       "      <th>民生</th>\n",
       "      <td>13</td>\n",
       "      <td>5</td>\n",
       "      <td>4</td>\n",
       "      <td>28</td>\n",
       "      <td>82</td>\n",
       "      <td>4</td>\n",
       "      <td>19</td>\n",
       "      <td>35</td>\n",
       "      <td>8</td>\n",
       "      <td>1343</td>\n",
       "      <td>9</td>\n",
       "      <td>8</td>\n",
       "      <td>0</td>\n",
       "      <td>5</td>\n",
       "      <td>0</td>\n",
       "      <td>5</td>\n",
       "    </tr>\n",
       "    <tr>\n",
       "      <th>汽车</th>\n",
       "      <td>41</td>\n",
       "      <td>35</td>\n",
       "      <td>33</td>\n",
       "      <td>44</td>\n",
       "      <td>62</td>\n",
       "      <td>18</td>\n",
       "      <td>32</td>\n",
       "      <td>22</td>\n",
       "      <td>124</td>\n",
       "      <td>26</td>\n",
       "      <td>8080</td>\n",
       "      <td>35</td>\n",
       "      <td>0</td>\n",
       "      <td>267</td>\n",
       "      <td>0</td>\n",
       "      <td>65</td>\n",
       "    </tr>\n",
       "    <tr>\n",
       "      <th>游戏</th>\n",
       "      <td>11</td>\n",
       "      <td>60</td>\n",
       "      <td>46</td>\n",
       "      <td>13</td>\n",
       "      <td>161</td>\n",
       "      <td>3</td>\n",
       "      <td>44</td>\n",
       "      <td>25</td>\n",
       "      <td>22</td>\n",
       "      <td>18</td>\n",
       "      <td>16</td>\n",
       "      <td>6761</td>\n",
       "      <td>0</td>\n",
       "      <td>178</td>\n",
       "      <td>0</td>\n",
       "      <td>13</td>\n",
       "    </tr>\n",
       "    <tr>\n",
       "      <th>疫情</th>\n",
       "      <td>0</td>\n",
       "      <td>0</td>\n",
       "      <td>0</td>\n",
       "      <td>0</td>\n",
       "      <td>0</td>\n",
       "      <td>0</td>\n",
       "      <td>0</td>\n",
       "      <td>0</td>\n",
       "      <td>0</td>\n",
       "      <td>0</td>\n",
       "      <td>0</td>\n",
       "      <td>0</td>\n",
       "      <td>866</td>\n",
       "      <td>0</td>\n",
       "      <td>0</td>\n",
       "      <td>0</td>\n",
       "    </tr>\n",
       "    <tr>\n",
       "      <th>科技</th>\n",
       "      <td>58</td>\n",
       "      <td>22</td>\n",
       "      <td>57</td>\n",
       "      <td>60</td>\n",
       "      <td>73</td>\n",
       "      <td>30</td>\n",
       "      <td>107</td>\n",
       "      <td>62</td>\n",
       "      <td>38</td>\n",
       "      <td>7</td>\n",
       "      <td>172</td>\n",
       "      <td>153</td>\n",
       "      <td>0</td>\n",
       "      <td>9012</td>\n",
       "      <td>2</td>\n",
       "      <td>435</td>\n",
       "    </tr>\n",
       "    <tr>\n",
       "      <th>股票</th>\n",
       "      <td>0</td>\n",
       "      <td>0</td>\n",
       "      <td>0</td>\n",
       "      <td>0</td>\n",
       "      <td>0</td>\n",
       "      <td>4</td>\n",
       "      <td>0</td>\n",
       "      <td>0</td>\n",
       "      <td>0</td>\n",
       "      <td>0</td>\n",
       "      <td>0</td>\n",
       "      <td>0</td>\n",
       "      <td>0</td>\n",
       "      <td>5</td>\n",
       "      <td>17</td>\n",
       "      <td>69</td>\n",
       "    </tr>\n",
       "    <tr>\n",
       "      <th>金融</th>\n",
       "      <td>109</td>\n",
       "      <td>26</td>\n",
       "      <td>25</td>\n",
       "      <td>216</td>\n",
       "      <td>41</td>\n",
       "      <td>137</td>\n",
       "      <td>87</td>\n",
       "      <td>42</td>\n",
       "      <td>72</td>\n",
       "      <td>17</td>\n",
       "      <td>68</td>\n",
       "      <td>15</td>\n",
       "      <td>0</td>\n",
       "      <td>618</td>\n",
       "      <td>83</td>\n",
       "      <td>5156</td>\n",
       "    </tr>\n",
       "  </tbody>\n",
       "</table>\n",
       "</div>"
      ],
      "text/plain": [
       "      世界    体育    军事    农业    娱乐    房产    教育    文化    旅游    民生    汽车    游戏  \\\n",
       "世界  5285    74   428    66   144    24    64    81   176    55    50    18   \n",
       "体育    48  8781    28    21   206     8    41    44    45     5    27   117   \n",
       "军事   350    24  5378    15    52     0    40    73    37    12    35    67   \n",
       "农业    19     8    11  4497    28    39    33    60    90    52    14     9   \n",
       "娱乐    51    85    71    47  8824     9    72   225    34   131    26   127   \n",
       "房产    14     4     0    59     8  4058    37    23    75    10    11     3   \n",
       "教育    44    37    28    65    65    15  6015   183    47    33    17    40   \n",
       "文化    53    11    32    85   193    15   120  6208   163    55     6    36   \n",
       "旅游   139    37    27   177    62    56    37   179  4538    23    68    23   \n",
       "民生    13     5     4    28    82     4    19    35     8  1343     9     8   \n",
       "汽车    41    35    33    44    62    18    32    22   124    26  8080    35   \n",
       "游戏    11    60    46    13   161     3    44    25    22    18    16  6761   \n",
       "疫情     0     0     0     0     0     0     0     0     0     0     0     0   \n",
       "科技    58    22    57    60    73    30   107    62    38     7   172   153   \n",
       "股票     0     0     0     0     0     4     0     0     0     0     0     0   \n",
       "金融   109    26    25   216    41   137    87    42    72    17    68    15   \n",
       "\n",
       "     疫情    科技  股票    金融  \n",
       "世界    1    95   0   120  \n",
       "体育    0    32   0    12  \n",
       "军事    0    85   0    18  \n",
       "农业    1    28   0    61  \n",
       "娱乐    0    85   0    18  \n",
       "房产    0    37   2    98  \n",
       "教育    0   113   0    49  \n",
       "文化    0    56   0    27  \n",
       "旅游    0    53   1    33  \n",
       "民生    0     5   0     5  \n",
       "汽车    0   267   0    65  \n",
       "游戏    0   178   0    13  \n",
       "疫情  866     0   0     0  \n",
       "科技    0  9012   2   435  \n",
       "股票    0     5  17    69  \n",
       "金融    0   618  83  5156  "
      ]
     },
     "execution_count": 52,
     "metadata": {},
     "output_type": "execute_result"
    }
   ],
   "source": [
    "from sklearn.metrics import confusion_matrix\n",
    "\n",
    "def predict_test():\n",
    "    startTime = time.time()\n",
    "    test_sample_quantity = len(test_index_1d_array)\n",
    "    batch_size = 100\n",
    "    predict_Y_list = []\n",
    "    \n",
    "    for i in range(0, test_sample_quantity, batch_size):\n",
    "        part_index_1d_array = test_index_1d_array[i: i + batch_size]\n",
    "        batch_X = get_X(part_index_1d_array)\n",
    "        predict_Y = session.run(data_10, {X_holder:batch_X})\n",
    "        predict_Y_list.extend(predict_Y)\n",
    "        usedTime = time.time() - startTime\n",
    "        print_string = \"{0} / {1} Cost time: {2:.2f} seconds.\".format(i, test_sample_quantity, usedTime)\n",
    "        print_flush(print_string)\n",
    "    \n",
    "    print_string = \"{0} / {1} Cost time: {2:.2f} seconds.\".format(test_sample_quantity, test_sample_quantity, usedTime)\n",
    "    print_flush(print_string)\n",
    "    \n",
    "    Y = np.array(predict_Y_list)\n",
    "    y = np.argmax(Y, axis=1)\n",
    "    predict_label_list = labelEncoder.inverse_transform(y)\n",
    "    \n",
    "    return predict_label_list\n",
    "\n",
    "test_label_list = [label_list[i] for i in test_index_1d_array]\n",
    "predict_label_list = predict_test()\n",
    "\n",
    "cm = pd.DataFrame(confusion_matrix(test_label_list, predict_label_list),\n",
    "             columns = labelEncoder.classes_, index = labelEncoder.classes_)\n",
    "\n",
    "if not os.path.isdir(\"./results/\" + name_of_predictor):\n",
    "    os.makedirs(\"./results/\" + name_of_predictor)\n",
    "cm.to_csv(\"./results/\" + name_of_predictor + '/' + name_of_predictor + '_CNNTensor_CM.csv')\n",
    "\n",
    "cm"
   ]
  },
  {
   "cell_type": "markdown",
   "metadata": {},
   "source": [
    "### 报告表"
   ]
  },
  {
   "cell_type": "code",
   "execution_count": 37,
   "metadata": {},
   "outputs": [
    {
     "data": {
      "text/html": [
       "<div>\n",
       "<style scoped>\n",
       "    .dataframe tbody tr th:only-of-type {\n",
       "        vertical-align: middle;\n",
       "    }\n",
       "\n",
       "    .dataframe tbody tr th {\n",
       "        vertical-align: top;\n",
       "    }\n",
       "\n",
       "    .dataframe thead th {\n",
       "        text-align: right;\n",
       "    }\n",
       "</style>\n",
       "<table border=\"1\" class=\"dataframe\">\n",
       "  <thead>\n",
       "    <tr style=\"text-align: right;\">\n",
       "      <th></th>\n",
       "      <th>Label</th>\n",
       "      <th>Precision</th>\n",
       "      <th>Recall</th>\n",
       "      <th>F1</th>\n",
       "      <th>Support</th>\n",
       "    </tr>\n",
       "  </thead>\n",
       "  <tbody>\n",
       "    <tr>\n",
       "      <th>0</th>\n",
       "      <td>世界</td>\n",
       "      <td>0.847634</td>\n",
       "      <td>0.791049</td>\n",
       "      <td>0.818365</td>\n",
       "      <td>6681</td>\n",
       "    </tr>\n",
       "    <tr>\n",
       "      <th>1</th>\n",
       "      <td>体育</td>\n",
       "      <td>0.953524</td>\n",
       "      <td>0.932661</td>\n",
       "      <td>0.942977</td>\n",
       "      <td>9415</td>\n",
       "    </tr>\n",
       "    <tr>\n",
       "      <th>2</th>\n",
       "      <td>军事</td>\n",
       "      <td>0.871920</td>\n",
       "      <td>0.869382</td>\n",
       "      <td>0.870649</td>\n",
       "      <td>6186</td>\n",
       "    </tr>\n",
       "    <tr>\n",
       "      <th>3</th>\n",
       "      <td>农业</td>\n",
       "      <td>0.833859</td>\n",
       "      <td>0.908485</td>\n",
       "      <td>0.869574</td>\n",
       "      <td>4950</td>\n",
       "    </tr>\n",
       "    <tr>\n",
       "      <th>4</th>\n",
       "      <td>娱乐</td>\n",
       "      <td>0.882312</td>\n",
       "      <td>0.899949</td>\n",
       "      <td>0.891043</td>\n",
       "      <td>9805</td>\n",
       "    </tr>\n",
       "    <tr>\n",
       "      <th>5</th>\n",
       "      <td>房产</td>\n",
       "      <td>0.918100</td>\n",
       "      <td>0.914170</td>\n",
       "      <td>0.916130</td>\n",
       "      <td>4439</td>\n",
       "    </tr>\n",
       "    <tr>\n",
       "      <th>6</th>\n",
       "      <td>教育</td>\n",
       "      <td>0.891375</td>\n",
       "      <td>0.890979</td>\n",
       "      <td>0.891177</td>\n",
       "      <td>6751</td>\n",
       "    </tr>\n",
       "    <tr>\n",
       "      <th>7</th>\n",
       "      <td>文化</td>\n",
       "      <td>0.854861</td>\n",
       "      <td>0.879320</td>\n",
       "      <td>0.866918</td>\n",
       "      <td>7060</td>\n",
       "    </tr>\n",
       "    <tr>\n",
       "      <th>8</th>\n",
       "      <td>旅游</td>\n",
       "      <td>0.829768</td>\n",
       "      <td>0.832202</td>\n",
       "      <td>0.830983</td>\n",
       "      <td>5453</td>\n",
       "    </tr>\n",
       "    <tr>\n",
       "      <th>9</th>\n",
       "      <td>民生</td>\n",
       "      <td>0.751539</td>\n",
       "      <td>0.856505</td>\n",
       "      <td>0.800596</td>\n",
       "      <td>1568</td>\n",
       "    </tr>\n",
       "    <tr>\n",
       "      <th>10</th>\n",
       "      <td>汽车</td>\n",
       "      <td>0.939644</td>\n",
       "      <td>0.909500</td>\n",
       "      <td>0.924326</td>\n",
       "      <td>8884</td>\n",
       "    </tr>\n",
       "    <tr>\n",
       "      <th>11</th>\n",
       "      <td>游戏</td>\n",
       "      <td>0.912169</td>\n",
       "      <td>0.917243</td>\n",
       "      <td>0.914699</td>\n",
       "      <td>7371</td>\n",
       "    </tr>\n",
       "    <tr>\n",
       "      <th>12</th>\n",
       "      <td>疫情</td>\n",
       "      <td>0.997696</td>\n",
       "      <td>1.000000</td>\n",
       "      <td>0.998847</td>\n",
       "      <td>866</td>\n",
       "    </tr>\n",
       "    <tr>\n",
       "      <th>13</th>\n",
       "      <td>科技</td>\n",
       "      <td>0.844690</td>\n",
       "      <td>0.875972</td>\n",
       "      <td>0.860047</td>\n",
       "      <td>10288</td>\n",
       "    </tr>\n",
       "    <tr>\n",
       "      <th>14</th>\n",
       "      <td>股票</td>\n",
       "      <td>0.161905</td>\n",
       "      <td>0.178947</td>\n",
       "      <td>0.170000</td>\n",
       "      <td>95</td>\n",
       "    </tr>\n",
       "    <tr>\n",
       "      <th>15</th>\n",
       "      <td>金融</td>\n",
       "      <td>0.834439</td>\n",
       "      <td>0.768176</td>\n",
       "      <td>0.799938</td>\n",
       "      <td>6712</td>\n",
       "    </tr>\n",
       "    <tr>\n",
       "      <th>999</th>\n",
       "      <td>总体</td>\n",
       "      <td>0.879430</td>\n",
       "      <td>0.878735</td>\n",
       "      <td>0.878695</td>\n",
       "      <td>96524</td>\n",
       "    </tr>\n",
       "  </tbody>\n",
       "</table>\n",
       "</div>"
      ],
      "text/plain": [
       "    Label  Precision    Recall        F1  Support\n",
       "0      世界   0.847634  0.791049  0.818365     6681\n",
       "1      体育   0.953524  0.932661  0.942977     9415\n",
       "2      军事   0.871920  0.869382  0.870649     6186\n",
       "3      农业   0.833859  0.908485  0.869574     4950\n",
       "4      娱乐   0.882312  0.899949  0.891043     9805\n",
       "5      房产   0.918100  0.914170  0.916130     4439\n",
       "6      教育   0.891375  0.890979  0.891177     6751\n",
       "7      文化   0.854861  0.879320  0.866918     7060\n",
       "8      旅游   0.829768  0.832202  0.830983     5453\n",
       "9      民生   0.751539  0.856505  0.800596     1568\n",
       "10     汽车   0.939644  0.909500  0.924326     8884\n",
       "11     游戏   0.912169  0.917243  0.914699     7371\n",
       "12     疫情   0.997696  1.000000  0.998847      866\n",
       "13     科技   0.844690  0.875972  0.860047    10288\n",
       "14     股票   0.161905  0.178947  0.170000       95\n",
       "15     金融   0.834439  0.768176  0.799938     6712\n",
       "999    总体   0.879430  0.878735  0.878695    96524"
      ]
     },
     "execution_count": 37,
     "metadata": {},
     "output_type": "execute_result"
    }
   ],
   "source": [
    "from sklearn.metrics import precision_recall_fscore_support\n",
    "\n",
    "def eval_model(y_true, y_pred, labels):\n",
    "    # 计算每个分类的Precision, Recall, f1, support\n",
    "    p, r, f1, s = precision_recall_fscore_support(y_true, y_pred)\n",
    "    # 计算总体的平均Precision, Recall, f1, support\n",
    "    tot_p = np.average(p, weights=s)\n",
    "    tot_r = np.average(r, weights=s)\n",
    "    tot_f1 = np.average(f1, weights=s)\n",
    "    tot_s = np.sum(s)\n",
    "    res1 = pd.DataFrame({\n",
    "        u'Label': labels,\n",
    "        u'Precision': p,\n",
    "        u'Recall': r,\n",
    "        u'F1': f1,\n",
    "        u'Support': s\n",
    "    })\n",
    "    res2 = pd.DataFrame({\n",
    "        u'Label': ['总体'],\n",
    "        u'Precision': [tot_p],\n",
    "        u'Recall': [tot_r],\n",
    "        u'F1': [tot_f1],\n",
    "        u'Support': [tot_s]\n",
    "    })\n",
    "    res2.index = [999]\n",
    "    res = pd.concat([res1, res2])\n",
    "    res.to_csv(\"./results/\" + name_of_predictor + '/' + name_of_predictor + '_CNNTensor_PRFS.csv')\n",
    "    return res[['Label', 'Precision', 'Recall', 'F1', 'Support']]\n",
    "\n",
    "eval_model(test_label_list, predict_label_list, labelEncoder.classes_)"
   ]
  },
  {
   "cell_type": "markdown",
   "metadata": {},
   "source": [
    "## 复用"
   ]
  },
  {
   "cell_type": "markdown",
   "metadata": {},
   "source": [
    "### 模型保存"
   ]
  },
  {
   "cell_type": "markdown",
   "metadata": {},
   "source": [
    "不要随便乱点！！！！！！！！"
   ]
  },
  {
   "cell_type": "code",
   "execution_count": 43,
   "metadata": {},
   "outputs": [
    {
     "data": {
      "text/plain": [
       "'./TouTiao/trained_model/CNN_Tensorflow.ckpt'"
      ]
     },
     "execution_count": 43,
     "metadata": {},
     "output_type": "execute_result"
    }
   ],
   "source": [
    "saver = tf.train.Saver()\n",
    "modelFilePath = \"./\" + name_of_predictor + \"/trained_model/CNN_Tensorflow.ckpt\"\n",
    "saver.save(session, modelFilePath)"
   ]
  },
  {
   "cell_type": "markdown",
   "metadata": {},
   "source": [
    "### 模型加载"
   ]
  },
  {
   "cell_type": "code",
   "execution_count": 11,
   "metadata": {},
   "outputs": [
    {
     "name": "stdout",
     "output_type": "stream",
     "text": [
      "INFO:tensorflow:Restoring parameters from ./TouTiao/trained_model/CNN_Tensorflow.ckpt\n"
     ]
    }
   ],
   "source": [
    "saver = tf.train.Saver()\n",
    "session = get_session()\n",
    "modelFilePath = \"./\" + name_of_predictor + \"/trained_model/CNN_Tensorflow.ckpt\"\n",
    "saver.restore(session, modelFilePath)"
   ]
  },
  {
   "cell_type": "markdown",
   "metadata": {},
   "source": [
    "## 应用预测"
   ]
  },
  {
   "cell_type": "markdown",
   "metadata": {},
   "source": [
    "### 即时输入预测"
   ]
  },
  {
   "cell_type": "code",
   "execution_count": 17,
   "metadata": {},
   "outputs": [
    {
     "name": "stdout",
     "output_type": "stream",
     "text": [
      "Predict: 娱乐\n",
      "Latent predict: 体育\n"
     ]
    }
   ],
   "source": [
    "input_content = \"\"\"\n",
    "孙杨案重审今日开庭：听证会为期三天，孙杨未要求开放公众\n",
    "\"\"\"\n",
    "\n",
    "print(\"Predict: \" + predict(input_content)[0])\n",
    "print(\"Latent predict: \" + predict(input_content)[1])"
   ]
  },
  {
   "cell_type": "markdown",
   "metadata": {},
   "source": [
    "### 新浪热搜即时预测"
   ]
  },
  {
   "cell_type": "code",
   "execution_count": 18,
   "metadata": {},
   "outputs": [
    {
     "data": {
      "text/html": [
       "<div>\n",
       "<style scoped>\n",
       "    .dataframe tbody tr th:only-of-type {\n",
       "        vertical-align: middle;\n",
       "    }\n",
       "\n",
       "    .dataframe tbody tr th {\n",
       "        vertical-align: top;\n",
       "    }\n",
       "\n",
       "    .dataframe thead th {\n",
       "        text-align: right;\n",
       "    }\n",
       "</style>\n",
       "<table border=\"1\" class=\"dataframe\">\n",
       "  <thead>\n",
       "    <tr style=\"text-align: right;\">\n",
       "      <th></th>\n",
       "      <th>热搜标题</th>\n",
       "      <th>预测结果</th>\n",
       "      <th>备用结果</th>\n",
       "    </tr>\n",
       "  </thead>\n",
       "  <tbody>\n",
       "    <tr>\n",
       "      <th>1</th>\n",
       "      <td>彦希直播回应偷戒指</td>\n",
       "      <td>科技</td>\n",
       "      <td>娱乐</td>\n",
       "    </tr>\n",
       "    <tr>\n",
       "      <th>2</th>\n",
       "      <td>鸿蒙手机来了</td>\n",
       "      <td>科技</td>\n",
       "      <td>金融</td>\n",
       "    </tr>\n",
       "    <tr>\n",
       "      <th>3</th>\n",
       "      <td>白银马拉松事故救援幕后</td>\n",
       "      <td>世界</td>\n",
       "      <td>文化</td>\n",
       "    </tr>\n",
       "    <tr>\n",
       "      <th>4</th>\n",
       "      <td>甲沟炎</td>\n",
       "      <td>体育</td>\n",
       "      <td>农业</td>\n",
       "    </tr>\n",
       "    <tr>\n",
       "      <th>5</th>\n",
       "      <td>武汉的公交车有多夸张</td>\n",
       "      <td>汽车</td>\n",
       "      <td>旅游</td>\n",
       "    </tr>\n",
       "    <tr>\n",
       "      <th>6</th>\n",
       "      <td>老板请流浪汉吃水饺顾客偷偷买单</td>\n",
       "      <td>农业</td>\n",
       "      <td>世界</td>\n",
       "    </tr>\n",
       "    <tr>\n",
       "      <th>7</th>\n",
       "      <td>国台办表示愿迅速安排让台胞有疫苗用</td>\n",
       "      <td>农业</td>\n",
       "      <td>世界</td>\n",
       "    </tr>\n",
       "    <tr>\n",
       "      <th>8</th>\n",
       "      <td>iOS14.6</td>\n",
       "      <td>科技</td>\n",
       "      <td>汽车</td>\n",
       "    </tr>\n",
       "    <tr>\n",
       "      <th>9</th>\n",
       "      <td>印度或将遭遇第三轮疫情</td>\n",
       "      <td>疫情</td>\n",
       "      <td>世界</td>\n",
       "    </tr>\n",
       "    <tr>\n",
       "      <th>10</th>\n",
       "      <td>微博名后的小稻穗</td>\n",
       "      <td>农业</td>\n",
       "      <td>文化</td>\n",
       "    </tr>\n",
       "    <tr>\n",
       "      <th>11</th>\n",
       "      <td>永恒族</td>\n",
       "      <td>体育</td>\n",
       "      <td>文化</td>\n",
       "    </tr>\n",
       "    <tr>\n",
       "      <th>12</th>\n",
       "      <td>华为EMUI微博更名HarmonyOS</td>\n",
       "      <td>科技</td>\n",
       "      <td>娱乐</td>\n",
       "    </tr>\n",
       "    <tr>\n",
       "      <th>13</th>\n",
       "      <td>2021高考有这些新变化</td>\n",
       "      <td>教育</td>\n",
       "      <td>科技</td>\n",
       "    </tr>\n",
       "    <tr>\n",
       "      <th>14</th>\n",
       "      <td>白银气象局称赛前已告知主办方大风天气</td>\n",
       "      <td>体育</td>\n",
       "      <td>游戏</td>\n",
       "    </tr>\n",
       "    <tr>\n",
       "      <th>15</th>\n",
       "      <td>约200名印度村民跳河躲避疫苗接种</td>\n",
       "      <td>农业</td>\n",
       "      <td>世界</td>\n",
       "    </tr>\n",
       "    <tr>\n",
       "      <th>16</th>\n",
       "      <td>王源 左边好运来右边发大财</td>\n",
       "      <td>金融</td>\n",
       "      <td>旅游</td>\n",
       "    </tr>\n",
       "    <tr>\n",
       "      <th>17</th>\n",
       "      <td>日本两个蜜瓜拍出16万</td>\n",
       "      <td>世界</td>\n",
       "      <td>农业</td>\n",
       "    </tr>\n",
       "    <tr>\n",
       "      <th>18</th>\n",
       "      <td>北京海关查获19只活体火蝾螈</td>\n",
       "      <td>旅游</td>\n",
       "      <td>教育</td>\n",
       "    </tr>\n",
       "    <tr>\n",
       "      <th>19</th>\n",
       "      <td>今天是喜羊羊生日</td>\n",
       "      <td>农业</td>\n",
       "      <td>旅游</td>\n",
       "    </tr>\n",
       "    <tr>\n",
       "      <th>20</th>\n",
       "      <td>辽宁一电瓶车街头爆燃</td>\n",
       "      <td>汽车</td>\n",
       "      <td>科技</td>\n",
       "    </tr>\n",
       "    <tr>\n",
       "      <th>21</th>\n",
       "      <td>指甲并不是剪得越短越好</td>\n",
       "      <td>军事</td>\n",
       "      <td>体育</td>\n",
       "    </tr>\n",
       "    <tr>\n",
       "      <th>22</th>\n",
       "      <td>明星高伙食费你怎么看</td>\n",
       "      <td>娱乐</td>\n",
       "      <td>体育</td>\n",
       "    </tr>\n",
       "    <tr>\n",
       "      <th>23</th>\n",
       "      <td>深圳暴雨</td>\n",
       "      <td>房产</td>\n",
       "      <td>金融</td>\n",
       "    </tr>\n",
       "    <tr>\n",
       "      <th>24</th>\n",
       "      <td>印度警察突袭推特印度办公室</td>\n",
       "      <td>世界</td>\n",
       "      <td>军事</td>\n",
       "    </tr>\n",
       "    <tr>\n",
       "      <th>25</th>\n",
       "      <td>欧盟禁止白俄罗斯航班进入领空</td>\n",
       "      <td>世界</td>\n",
       "      <td>军事</td>\n",
       "    </tr>\n",
       "    <tr>\n",
       "      <th>26</th>\n",
       "      <td>吊颈不当严重或致高位截瘫</td>\n",
       "      <td>农业</td>\n",
       "      <td>娱乐</td>\n",
       "    </tr>\n",
       "    <tr>\n",
       "      <th>27</th>\n",
       "      <td>海口农户36年种出辣椒味荔枝</td>\n",
       "      <td>农业</td>\n",
       "      <td>旅游</td>\n",
       "    </tr>\n",
       "    <tr>\n",
       "      <th>28</th>\n",
       "      <td>四川一食品厂疑似有害气体中毒5人死亡</td>\n",
       "      <td>农业</td>\n",
       "      <td>文化</td>\n",
       "    </tr>\n",
       "    <tr>\n",
       "      <th>29</th>\n",
       "      <td>我国废纸回收率高达90%</td>\n",
       "      <td>金融</td>\n",
       "      <td>农业</td>\n",
       "    </tr>\n",
       "    <tr>\n",
       "      <th>30</th>\n",
       "      <td>小伙地铁内给乘客画像记录一瞬间</td>\n",
       "      <td>旅游</td>\n",
       "      <td>文化</td>\n",
       "    </tr>\n",
       "    <tr>\n",
       "      <th>31</th>\n",
       "      <td>掴足臭豆腐商标败诉</td>\n",
       "      <td>农业</td>\n",
       "      <td>文化</td>\n",
       "    </tr>\n",
       "    <tr>\n",
       "      <th>32</th>\n",
       "      <td>定金一看</td>\n",
       "      <td>金融</td>\n",
       "      <td>房产</td>\n",
       "    </tr>\n",
       "    <tr>\n",
       "      <th>33</th>\n",
       "      <td>沈梦辰谈杨幂对自己的影响</td>\n",
       "      <td>娱乐</td>\n",
       "      <td>文化</td>\n",
       "    </tr>\n",
       "    <tr>\n",
       "      <th>34</th>\n",
       "      <td>美发布最高级旅行警告建议勿前往日本</td>\n",
       "      <td>世界</td>\n",
       "      <td>旅游</td>\n",
       "    </tr>\n",
       "    <tr>\n",
       "      <th>35</th>\n",
       "      <td>指甲的正确剪法</td>\n",
       "      <td>文化</td>\n",
       "      <td>军事</td>\n",
       "    </tr>\n",
       "    <tr>\n",
       "      <th>36</th>\n",
       "      <td>马里过渡总统总理被军人强行带走</td>\n",
       "      <td>军事</td>\n",
       "      <td>世界</td>\n",
       "    </tr>\n",
       "    <tr>\n",
       "      <th>37</th>\n",
       "      <td>周也面无表情捧场</td>\n",
       "      <td>娱乐</td>\n",
       "      <td>游戏</td>\n",
       "    </tr>\n",
       "    <tr>\n",
       "      <th>38</th>\n",
       "      <td>甘肃牧羊人讲述救人惊险细节</td>\n",
       "      <td>文化</td>\n",
       "      <td>农业</td>\n",
       "    </tr>\n",
       "    <tr>\n",
       "      <th>39</th>\n",
       "      <td>搜聊天记录的意外收获</td>\n",
       "      <td>科技</td>\n",
       "      <td>教育</td>\n",
       "    </tr>\n",
       "    <tr>\n",
       "      <th>40</th>\n",
       "      <td>黑色系大宗商品价格大幅下跌</td>\n",
       "      <td>金融</td>\n",
       "      <td>科技</td>\n",
       "    </tr>\n",
       "    <tr>\n",
       "      <th>41</th>\n",
       "      <td>人类有什么细思极恐的细节</td>\n",
       "      <td>文化</td>\n",
       "      <td>教育</td>\n",
       "    </tr>\n",
       "    <tr>\n",
       "      <th>42</th>\n",
       "      <td>情书</td>\n",
       "      <td>文化</td>\n",
       "      <td>旅游</td>\n",
       "    </tr>\n",
       "    <tr>\n",
       "      <th>43</th>\n",
       "      <td>男孩子没回消息的时候</td>\n",
       "      <td>教育</td>\n",
       "      <td>民生</td>\n",
       "    </tr>\n",
       "    <tr>\n",
       "      <th>44</th>\n",
       "      <td>Xiye成为自由人</td>\n",
       "      <td>科技</td>\n",
       "      <td>娱乐</td>\n",
       "    </tr>\n",
       "    <tr>\n",
       "      <th>45</th>\n",
       "      <td>618预售</td>\n",
       "      <td>科技</td>\n",
       "      <td>汽车</td>\n",
       "    </tr>\n",
       "    <tr>\n",
       "      <th>46</th>\n",
       "      <td>给高考生的建议</td>\n",
       "      <td>教育</td>\n",
       "      <td>农业</td>\n",
       "    </tr>\n",
       "    <tr>\n",
       "      <th>47</th>\n",
       "      <td>突然有点心疼小学老师了</td>\n",
       "      <td>教育</td>\n",
       "      <td>民生</td>\n",
       "    </tr>\n",
       "    <tr>\n",
       "      <th>48</th>\n",
       "      <td>稻穗状烟花</td>\n",
       "      <td>农业</td>\n",
       "      <td>文化</td>\n",
       "    </tr>\n",
       "    <tr>\n",
       "      <th>49</th>\n",
       "      <td>中国好声音 海选</td>\n",
       "      <td>军事</td>\n",
       "      <td>娱乐</td>\n",
       "    </tr>\n",
       "    <tr>\n",
       "      <th>50</th>\n",
       "      <td>御赐小仵作</td>\n",
       "      <td>文化</td>\n",
       "      <td>娱乐</td>\n",
       "    </tr>\n",
       "  </tbody>\n",
       "</table>\n",
       "</div>"
      ],
      "text/plain": [
       "                   热搜标题 预测结果 备用结果\n",
       "1             彦希直播回应偷戒指   科技   娱乐\n",
       "2                鸿蒙手机来了   科技   金融\n",
       "3           白银马拉松事故救援幕后   世界   文化\n",
       "4                   甲沟炎   体育   农业\n",
       "5            武汉的公交车有多夸张   汽车   旅游\n",
       "6       老板请流浪汉吃水饺顾客偷偷买单   农业   世界\n",
       "7     国台办表示愿迅速安排让台胞有疫苗用   农业   世界\n",
       "8               iOS14.6   科技   汽车\n",
       "9           印度或将遭遇第三轮疫情   疫情   世界\n",
       "10             微博名后的小稻穗   农业   文化\n",
       "11                  永恒族   体育   文化\n",
       "12  华为EMUI微博更名HarmonyOS   科技   娱乐\n",
       "13         2021高考有这些新变化   教育   科技\n",
       "14   白银气象局称赛前已告知主办方大风天气   体育   游戏\n",
       "15    约200名印度村民跳河躲避疫苗接种   农业   世界\n",
       "16        王源 左边好运来右边发大财   金融   旅游\n",
       "17          日本两个蜜瓜拍出16万   世界   农业\n",
       "18       北京海关查获19只活体火蝾螈   旅游   教育\n",
       "19             今天是喜羊羊生日   农业   旅游\n",
       "20           辽宁一电瓶车街头爆燃   汽车   科技\n",
       "21          指甲并不是剪得越短越好   军事   体育\n",
       "22           明星高伙食费你怎么看   娱乐   体育\n",
       "23                 深圳暴雨   房产   金融\n",
       "24        印度警察突袭推特印度办公室   世界   军事\n",
       "25       欧盟禁止白俄罗斯航班进入领空   世界   军事\n",
       "26         吊颈不当严重或致高位截瘫   农业   娱乐\n",
       "27       海口农户36年种出辣椒味荔枝   农业   旅游\n",
       "28   四川一食品厂疑似有害气体中毒5人死亡   农业   文化\n",
       "29         我国废纸回收率高达90%   金融   农业\n",
       "30      小伙地铁内给乘客画像记录一瞬间   旅游   文化\n",
       "31            掴足臭豆腐商标败诉   农业   文化\n",
       "32                 定金一看   金融   房产\n",
       "33         沈梦辰谈杨幂对自己的影响   娱乐   文化\n",
       "34    美发布最高级旅行警告建议勿前往日本   世界   旅游\n",
       "35              指甲的正确剪法   文化   军事\n",
       "36      马里过渡总统总理被军人强行带走   军事   世界\n",
       "37             周也面无表情捧场   娱乐   游戏\n",
       "38        甘肃牧羊人讲述救人惊险细节   文化   农业\n",
       "39           搜聊天记录的意外收获   科技   教育\n",
       "40        黑色系大宗商品价格大幅下跌   金融   科技\n",
       "41         人类有什么细思极恐的细节   文化   教育\n",
       "42                   情书   文化   旅游\n",
       "43           男孩子没回消息的时候   教育   民生\n",
       "44            Xiye成为自由人   科技   娱乐\n",
       "45                618预售   科技   汽车\n",
       "46              给高考生的建议   教育   农业\n",
       "47          突然有点心疼小学老师了   教育   民生\n",
       "48                稻穗状烟花   农业   文化\n",
       "49             中国好声音 海选   军事   娱乐\n",
       "50                御赐小仵作   文化   娱乐"
      ]
     },
     "execution_count": 18,
     "metadata": {},
     "output_type": "execute_result"
    }
   ],
   "source": [
    "import requests\n",
    "\n",
    "headers = {'User-Agent': 'Mozilla/5.0 (Macintosh; Intel Mac OS X 11_0_0) '\n",
    "                         'AppleWebKit/537.36 (KHTML, like Gecko) '\n",
    "                         'Chrome/86.0.4240.198 Safari/537.36'}\n",
    "html = requests.get('https://s.weibo.com/top/summary?cate=realtimehot', headers=headers)\n",
    "page = html.content.decode()\n",
    "\n",
    "res = re.findall(\n",
    "    r'<tr class=\"\">\\s*<td class=\"td-01 ranktop\">(\\d+)<\\/td>\\s*<td class=\"td-02\">\\s*<a href=\"\\/('\n",
    "    r'.*?)&.*?target=\"_blank\">(.*?)<\\/a>', page, re.S)\n",
    "\n",
    "# ind = [i[0] for i in res]\n",
    "# link = ['https://s.weibo.com/' + i[1] for i in res]\n",
    "title = [i[2] for i in res]\n",
    "pred = [predict(t)[0] for t in title]\n",
    "pred_latent = [predict(t)[1] for t in title]\n",
    "\n",
    "\n",
    "dataFrame = pd.DataFrame({\n",
    "        u'热搜标题': title,\n",
    "        u'预测结果': pred,\n",
    "        u'备用结果': pred_latent\n",
    "    })\n",
    "dataFrame.index = [i + 1 for i in range(50)]\n",
    "\n",
    "dataFrame[['热搜标题', '预测结果', '备用结果']]\n",
    "    "
   ]
  },
  {
   "cell_type": "code",
   "execution_count": null,
   "metadata": {},
   "outputs": [],
   "source": []
  }
 ],
 "metadata": {
  "kernelspec": {
   "display_name": "Python 3",
   "language": "python",
   "name": "python3"
  },
  "language_info": {
   "codemirror_mode": {
    "name": "ipython",
    "version": 3
   },
   "file_extension": ".py",
   "mimetype": "text/x-python",
   "name": "python",
   "nbconvert_exporter": "python",
   "pygments_lexer": "ipython3",
   "version": "3.6.13"
  },
  "toc": {
   "base_numbering": 1,
   "nav_menu": {},
   "number_sections": true,
   "sideBar": true,
   "skip_h1_title": false,
   "title_cell": "Table of Contents",
   "title_sidebar": "Contents",
   "toc_cell": false,
   "toc_position": {
    "height": "calc(100% - 180px)",
    "left": "10px",
    "top": "150px",
    "width": "332px"
   },
   "toc_section_display": true,
   "toc_window_display": true
  },
  "varInspector": {
   "cols": {
    "lenName": 16,
    "lenType": 16,
    "lenVar": 40
   },
   "kernels_config": {
    "python": {
     "delete_cmd_postfix": "",
     "delete_cmd_prefix": "del ",
     "library": "var_list.py",
     "varRefreshCmd": "print(var_dic_list())"
    },
    "r": {
     "delete_cmd_postfix": ") ",
     "delete_cmd_prefix": "rm(",
     "library": "var_list.r",
     "varRefreshCmd": "cat(var_dic_list()) "
    }
   },
   "oldHeight": 501,
   "position": {
    "height": "523px",
    "left": "1206px",
    "right": "20px",
    "top": "135px",
    "width": "431px"
   },
   "types_to_exclude": [
    "module",
    "function",
    "builtin_function_or_method",
    "instance",
    "_Feature"
   ],
   "varInspector_section_display": "block",
   "window_display": true
  }
 },
 "nbformat": 4,
 "nbformat_minor": 4
}
